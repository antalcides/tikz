{
 "metadata": {
  "name": ""
 },
 "nbformat": 3,
 "nbformat_minor": 0,
 "worksheets": [
  {
   "cells": [
    {
     "cell_type": "markdown",
     "metadata": {},
     "source": [
      "# Probabilidad y Estadistica con Python 3.X"
     ]
    },
    {
     "cell_type": "code",
     "collapsed": false,
     "input": [
      "import itertools as it\n",
      "import numpy as np"
     ],
     "language": "python",
     "metadata": {},
     "outputs": [],
     "prompt_number": 1
    },
    {
     "cell_type": "markdown",
     "metadata": {},
     "source": [
      "## T\u00e9cnicas de conteo:\n",
      "\n",
      "Las t\u00e9cnicas de conteo son aquellas que son usadas para enumerar eventos dic\u00edciles de cuantificar.\n",
      "\n",
      "* combinaciones\n",
      "\n",
      "* permutaciones\n",
      "\n",
      "* diagramas de \u00e1rbol\n",
      "\n",
      "### Principio fundamental de conteo\n",
      "\n",
      "Si una operaci\u00f3n puede realizarse en $n_1$ formas y si por cada una de \u00e9stas, una segunda opercai\u00f3n puede llevarse a cabo en $n_2$ formas, entonces las dos operaciones pueden realizarse jutas en $n_1 n_2$ formas.\n",
      "\n",
      "### Conceptos\n",
      "\n",
      "* Definimos una permutaci\u00f3n como un reacomode de objetos.\n",
      "\n",
      "* Es todo arreglo de elementos en donde nos interesa el lugar o posici\u00f3n que ocupa cada uno de los elementos que constituyen dicho arreglo.\n",
      "\n",
      "* El orden o la forma en que se asignan las funciones s\u00ed importa."
     ]
    },
    {
     "cell_type": "markdown",
     "metadata": {},
     "source": [
      "## Factorial\n",
      "\n",
      "La funci\u00f3n factorial se denota como $n!$, se utiliza en las permutaciones y combinaciones.\n",
      "\n",
      "El **factorial** de un entero positivo $n$, el **factorial de $n$** o **$n$ factorial** se define en principio como el producto de todos los n\u00fameros enteros positivos desde 1 (es decir, los n\u00fameros naturales) hasta n.\n",
      "\n",
      "La funci\u00f3n factorial es formalmente definida mediante el producto:\n",
      "\n",
      "$n! = 1 \\times 2 \\times 3 \\times ... \\times n$\n",
      "\n",
      "La multiplicaci\u00f3n anterior se puede simbolizar tambi\u00e9n utilizando el operador productorio:\n",
      "\n",
      "$n!=\\prod_{k=1}^n k \\!$\n",
      "\n",
      "#### Ejemplo:\n",
      "\n",
      "$7! = 1 \\times 2 \\times 3 \\times 4 \\times 5 \\times 6 \\times 7 = 5040$"
     ]
    },
    {
     "cell_type": "code",
     "collapsed": false,
     "input": [
      "1*2*3*4*5*6*7"
     ],
     "language": "python",
     "metadata": {},
     "outputs": [
      {
       "metadata": {},
       "output_type": "pyout",
       "prompt_number": 2,
       "text": [
        "5040"
       ]
      }
     ],
     "prompt_number": 2
    },
    {
     "cell_type": "code",
     "collapsed": false,
     "input": [
      "def factorial_p(n):\n",
      "    return np.prod(range(1,n+1))\n",
      "\n",
      "\n",
      "factorial_p(7)"
     ],
     "language": "python",
     "metadata": {},
     "outputs": [
      {
       "metadata": {},
       "output_type": "pyout",
       "prompt_number": 3,
       "text": [
        "5040"
       ]
      }
     ],
     "prompt_number": 3
    },
    {
     "cell_type": "markdown",
     "metadata": {},
     "source": [
      "Tambi\u00e9n es posible definirlo mediante la relaci\u00f3n de recurrencia:\n",
      "\n",
      "$$\n",
      "n! = \\begin{cases}\n",
      "1              & \\text{si } n = 0, \\\\\n",
      "(n-1)!\\times n & \\text{si } n > 0\n",
      "\\end{cases}$$\n"
     ]
    },
    {
     "cell_type": "code",
     "collapsed": false,
     "input": [
      "def factorial_r(n):\n",
      "    if n == 0:\n",
      "        return 1\n",
      "    elif n > 0:\n",
      "        return factorial_r(n-1) * n\n",
      "    \n",
      "\n",
      "factorial_r(7)"
     ],
     "language": "python",
     "metadata": {},
     "outputs": [
      {
       "metadata": {},
       "output_type": "pyout",
       "prompt_number": 4,
       "text": [
        "5040"
       ]
      }
     ],
     "prompt_number": 4
    },
    {
     "cell_type": "markdown",
     "metadata": {},
     "source": [
      "## Permutaciones\n",
      "\n",
      "Una permutaci\u00f3n es la variaci\u00f3n del orden o de la disposici\u00f3n de los elementos de un conjunto.\n",
      "\n",
      "Por ejemplo, en el conjunto {1, 2, 3}, cada ordenaci\u00f3n posible de sus elementos, sin repetirlos, es una permutaci\u00f3n. Existe un total de 6 permutaciones para estos elementos: \"1, 2, 3\", \"1, 3, 2\", \"2, 1, 3\", \"2, 3, 1\", \"3, 1, 2\" y \"3, 2, 1\"."
     ]
    },
    {
     "cell_type": "code",
     "collapsed": false,
     "input": [
      "conjunto = {1, 2, 3}\n",
      "\n",
      "perms = list(it.permutations(conjunto, r=3))\n",
      "\n",
      "print('Total de permutaciones: {0}\\n'.format(len(perms)))\n",
      "\n",
      "for p in perms:\n",
      "    print(p)"
     ],
     "language": "python",
     "metadata": {},
     "outputs": [
      {
       "output_type": "stream",
       "stream": "stdout",
       "text": [
        "Total de permutaciones: 6\n",
        "\n",
        "(1, 2, 3)\n",
        "(1, 3, 2)\n",
        "(2, 1, 3)\n",
        "(2, 3, 1)\n",
        "(3, 1, 2)\n",
        "(3, 2, 1)\n"
       ]
      }
     ],
     "prompt_number": 5
    },
    {
     "cell_type": "markdown",
     "metadata": {},
     "source": [
      "Cuando $n$ y $r$ son enteros positivos y $r\\leq n$ (de lo contrario no se puede realizar)\n",
      "\n",
      "$nPr = \\frac{n!}{(n-r)!} \\text{si } 0 \\leq r \\leq n$\n",
      "\n",
      "Donde:\n",
      "\n",
      "* $P$ es permutaci\u00f3n de.\n",
      "\n",
      "* $r$ es parte del conjunto de elementos.\n",
      "\n",
      "* $n$ es el total de los elementos del conjunto.\n",
      "\n",
      "Cuando $r$ es igual a $n$ (es decir, cuando se trata de permutar todos los $n$ objetos) la f\u00f3rmula se reduce a:\n",
      "\n",
      "$nPn = n!$\n",
      "\n",
      "Ya que $0! = 1$\n",
      "\n",
      "#### Ejemplo:\n",
      "\n",
      "\u00bfCuantas representaciones deiferenes ser\u00e1n posibles formar, si se desea que consten de Presidente, Secretario, Tesorero, Primer Vocal y Segundo Vocal?, s\u00ed esta representaci\u00f3n puede ser formada de entre 25 miembros del sindicato de una peque\u00f1a empresa.\n",
      "\n",
      "##### Por principio multiplicativo\n",
      "\n",
      "$$25\u00b724\u00b723\u00b722\u00b721= 6,375,600$$ \n",
      "\n",
      "maneras de formar una representaci\u00f3n de este sindicato que consiste de presidente, secretario, etc.\n",
      "\n",
      "\n",
      "##### Por formula:\n",
      "\n",
      "$n = 25$; $r=5$\n",
      "\n",
      "$25P5 = \\frac{25!}{(25-5)!} = \\frac{25!}{20!} = \\frac{(25\u00b724\u00b723\u00b722\u00b721\u00b7...\u00b71)}{(20\u00b719\u00b718\u00b7...\u00b71)} = 6,375, 600$"
     ]
    },
    {
     "cell_type": "code",
     "collapsed": false,
     "input": [
      "# Seleccionar implementaci\u00f3n de \"factorial\" a utilizar:\n",
      "# f = factorial_p\n",
      "f = factorial_r\n",
      "\n",
      "def nPr(n, r):\n",
      "    if 0 <= r <= n:\n",
      "        return f(n) / f(n-r)\n",
      "    else:\n",
      "        return 0\n",
      "\n",
      "\n",
      "nPr(25, 5)"
     ],
     "language": "python",
     "metadata": {},
     "outputs": [
      {
       "metadata": {},
       "output_type": "pyout",
       "prompt_number": 6,
       "text": [
        "6375600.0"
       ]
      }
     ],
     "prompt_number": 6
    },
    {
     "cell_type": "markdown",
     "metadata": {},
     "source": [
      "## Combinaciones\n",
      "\n",
      "Tenemos una colecci\u00f3n de $n$ objetos. Donde una combinaci\u00f3n de estos $n$ objetos, tomados $r$ a la vez, es cualquier selecci\u00f3n de $r$ objetos, donde el orden no cuenta. Es decir, una combinaci\u00f3n $r$ de un conjunto de $n$ objetos es cualquier subconjunto de $r$ elementos.\n",
      "\n",
      "$(^n_r) = \\frac{n!}{r!(n-r)!} \\text{si } 0 \\leq r \\leq n$"
     ]
    },
    {
     "cell_type": "code",
     "collapsed": false,
     "input": [
      "combs = list(it.combinations(conjunto, r=2))\n",
      "\n",
      "print('Total de combiaciones: {0}\\n'.format(len(combs)))\n",
      "\n",
      "for c in combs:\n",
      "    print(c)"
     ],
     "language": "python",
     "metadata": {},
     "outputs": [
      {
       "output_type": "stream",
       "stream": "stdout",
       "text": [
        "Total de combiaciones: 3\n",
        "\n",
        "(1, 2)\n",
        "(1, 3)\n",
        "(2, 3)\n"
       ]
      }
     ],
     "prompt_number": 7
    },
    {
     "cell_type": "markdown",
     "metadata": {},
     "source": [
      "Encuetre el numero $m$ de combinaciones de 3 comites que pueden formarse con 8 personas:\n",
      "\n",
      "$m = C(n, r) = C(8, 3) = (nCr) = (^8_3) = \\frac{8\u00b77\u00b76}{3\u00b72\u00b71}=\\frac{336}{6}=56$"
     ]
    },
    {
     "cell_type": "code",
     "collapsed": false,
     "input": [
      "def nCr(n, r):\n",
      "    if 0 <= r <= n:\n",
      "        return f(n) / (f(n-r)*f(r))\n",
      "    else:\n",
      "        return 0\n",
      "    \n",
      "nCr(8, 3)"
     ],
     "language": "python",
     "metadata": {},
     "outputs": [
      {
       "metadata": {},
       "output_type": "pyout",
       "prompt_number": 8,
       "text": [
        "56.0"
       ]
      }
     ],
     "prompt_number": 8
    },
    {
     "cell_type": "markdown",
     "metadata": {},
     "source": [
      "#### Ejemplo:\n",
      "\n",
      "* Las combinaciones de las letras **A**, **B**, **C** y **D** tomadas en grupos de a 3 son:"
     ]
    },
    {
     "cell_type": "code",
     "collapsed": false,
     "input": [
      "a = ['A', 'B', 'C', 'D']\n",
      "r = 3\n",
      "\n",
      "combs = list(it.combinations(a, r))\n",
      "perms = list(it.permutations(a, r))"
     ],
     "language": "python",
     "metadata": {},
     "outputs": [],
     "prompt_number": 9
    },
    {
     "cell_type": "code",
     "collapsed": false,
     "input": [
      "for c in combs:\n",
      "    print(c)"
     ],
     "language": "python",
     "metadata": {},
     "outputs": [
      {
       "output_type": "stream",
       "stream": "stdout",
       "text": [
        "('A', 'B', 'C')\n",
        "('A', 'B', 'D')\n",
        "('A', 'C', 'D')\n",
        "('B', 'C', 'D')\n"
       ]
      }
     ],
     "prompt_number": 10
    },
    {
     "cell_type": "code",
     "collapsed": false,
     "input": [
      "for p in perms:\n",
      "    print(p)"
     ],
     "language": "python",
     "metadata": {},
     "outputs": [
      {
       "output_type": "stream",
       "stream": "stdout",
       "text": [
        "('A', 'B', 'C')\n",
        "('A', 'B', 'D')\n",
        "('A', 'C', 'B')\n",
        "('A', 'C', 'D')\n",
        "('A', 'D', 'B')\n",
        "('A', 'D', 'C')\n",
        "('B', 'A', 'C')\n",
        "('B', 'A', 'D')\n",
        "('B', 'C', 'A')\n",
        "('B', 'C', 'D')\n",
        "('B', 'D', 'A')\n",
        "('B', 'D', 'C')\n",
        "('C', 'A', 'B')\n",
        "('C', 'A', 'D')\n",
        "('C', 'B', 'A')\n",
        "('C', 'B', 'D')\n",
        "('C', 'D', 'A')\n",
        "('C', 'D', 'B')\n",
        "('D', 'A', 'B')\n",
        "('D', 'A', 'C')\n",
        "('D', 'B', 'A')\n",
        "('D', 'B', 'C')\n",
        "('D', 'C', 'A')\n",
        "('D', 'C', 'B')\n"
       ]
      }
     ],
     "prompt_number": 11
    },
    {
     "cell_type": "code",
     "collapsed": false,
     "input": [
      "print('Total de permutaciones: {0}\\n'\n",
      "      'Total de combinaciones: {1}'.format(len(perms),\n",
      "                                           len(combs)))"
     ],
     "language": "python",
     "metadata": {},
     "outputs": [
      {
       "output_type": "stream",
       "stream": "stdout",
       "text": [
        "Total de permutaciones: 24\n",
        "Total de combinaciones: 4\n"
       ]
      }
     ],
     "prompt_number": 12
    },
    {
     "cell_type": "markdown",
     "metadata": {},
     "source": [
      "#### Ejercicio:\n",
      "\n",
      "Un agricultor cpmpra 3 vacas, 2 cerdos, y 4 galllinas a una persone que tiene 6 vacas, 5 cerdos y 8 gallinas\n",
      "\n",
      "\u00bfCuantas opciones tiene a escojer el agricultor?\n",
      "\n",
      "$(^6_3)(^5_2)(^8_4) = (20)(10)(70) = 14,000$"
     ]
    },
    {
     "cell_type": "code",
     "collapsed": false,
     "input": [
      "vacas    = nCr(6, 3)\n",
      "cerdos   = nCr(5, 2)\n",
      "gallinas = nCr(8, 4)\n",
      "\n",
      "total = vacas * cerdos * gallinas\n",
      "\n",
      "print('vacas    = {0}\\n'\n",
      "      'cerdos   = {1}\\n'\n",
      "      'gallinas = {2}\\n\\n'\n",
      "      'total = {3}'.format(vacas,\n",
      "                           cerdos,\n",
      "                           gallinas,\n",
      "                           total))"
     ],
     "language": "python",
     "metadata": {},
     "outputs": [
      {
       "output_type": "stream",
       "stream": "stdout",
       "text": [
        "vacas    = 20.0\n",
        "cerdos   = 10.0\n",
        "gallinas = 70.0\n",
        "\n",
        "total = 14000.0\n"
       ]
      }
     ],
     "prompt_number": 13
    }
   ],
   "metadata": {}
  }
 ]
}